{
 "cells": [
  {
   "cell_type": "code",
   "execution_count": null,
   "id": "d82a8de7-4a9a-4b2a-a68b-4085342f21d2",
   "metadata": {},
   "outputs": [],
   "source": []
  }
 ],
 "metadata": {
  "kernelspec": {
   "display_name": "",
   "name": ""
  },
  "language_info": {
   "name": ""
  }
 },
 "nbformat": 4,
 "nbformat_minor": 5
}
